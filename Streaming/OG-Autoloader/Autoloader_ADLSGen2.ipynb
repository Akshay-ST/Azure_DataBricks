{
 "cells": [
  {
   "cell_type": "code",
   "execution_count": 0,
   "metadata": {
    "application/vnd.databricks.v1+cell": {
     "cellMetadata": {},
     "inputWidgets": {},
     "nuid": "6cabdf1b-4a64-4347-8ba4-9dcf64f5cb06",
     "showTitle": false,
     "title": ""
    }
   },
   "outputs": [],
   "source": [
    "dbutils.fs.mount(\n",
    "source = 'wasbs://retail_data@storageaccount123.blob.core.windows.net',\n",
    "mount_point = '/mnt/retail-data',\n",
    "extra_configs=\n",
    "{'fs.azure.account.key.storageaccount123.blob.core.windows.net':''\n",
    "})"
   ]
  },
  {
   "cell_type": "code",
   "execution_count": 0,
   "metadata": {
    "application/vnd.databricks.v1+cell": {
     "cellMetadata": {},
     "inputWidgets": {},
     "nuid": "ee36ddc8-6f19-41e3-aa14-d5f0b279fdbb",
     "showTitle": false,
     "title": ""
    }
   },
   "outputs": [],
   "source": [
    "landing_zone = \"/mnt/retail-data\"\n",
    "orders_data = landing_zone + \"/orders_data\"\n",
    "checkpoint_path = landing_zone + \"/orders_checkpoint\""
   ]
  },
  {
   "cell_type": "code",
   "execution_count": 0,
   "metadata": {
    "application/vnd.databricks.v1+cell": {
     "cellMetadata": {},
     "inputWidgets": {},
     "nuid": "8b21b63f-4bd4-4738-9e96-3e697791809b",
     "showTitle": false,
     "title": ""
    }
   },
   "outputs": [],
   "source": [
    "dbutils.fs.rm(\"dbfs:/FileStore/retail_data/orders_checkpoint\", True)"
   ]
  },
  {
   "cell_type": "code",
   "execution_count": 0,
   "metadata": {
    "application/vnd.databricks.v1+cell": {
     "cellMetadata": {},
     "inputWidgets": {},
     "nuid": "fd6f06bc-c665-4c80-a031-026fbf6c1221",
     "showTitle": false,
     "title": ""
    }
   },
   "outputs": [],
   "source": [
    "from pyspark.sql.functions import input_file_name, current_timestamp"
   ]
  },
  {
   "cell_type": "code",
   "execution_count": 0,
   "metadata": {
    "application/vnd.databricks.v1+cell": {
     "cellMetadata": {},
     "inputWidgets": {},
     "nuid": "3915eb94-e941-4a6a-9c52-f3248af4375b",
     "showTitle": false,
     "title": ""
    }
   },
   "outputs": [],
   "source": [
    "order_df = spark.readStream \\\n",
    ".format(\"cloudFiles\") \\\n",
    ".option(\"cloudFiles.format\",\"csv\") \\\n",
    ".option(\"cloudFiles.inferColumnTypes\",\"true\") \\\n",
    ".option(\"cloudFiles.schemaLocation\", checkpoint_path) \\\n",
    ".option(\"header\", True) \\\n",
    ".option(\"cloudFiles.schemaEvolutionMode\",\"addNewColumns\") \\\n",
    ".load(orders_data) \\\n",
    ".withColumn(\"file_name\",input_file_name()) \\\n",
    ".withColumn(\"time_of_load\",current_timestamp())"
   ]
  },
  {
   "cell_type": "code",
   "execution_count": 0,
   "metadata": {
    "application/vnd.databricks.v1+cell": {
     "cellMetadata": {},
     "inputWidgets": {},
     "nuid": "b726faec-19c1-47e1-b130-80ee2bfa8b1d",
     "showTitle": false,
     "title": ""
    }
   },
   "outputs": [],
   "source": [
    "orders_df.display()"
   ]
  }
 ],
 "metadata": {
  "application/vnd.databricks.v1+notebook": {
   "dashboards": [],
   "environmentMetadata": null,
   "language": "python",
   "notebookMetadata": {
    "pythonIndentUnit": 4
   },
   "notebookName": "Autoloader_ADLSGen2",
   "widgets": {}
  }
 },
 "nbformat": 4,
 "nbformat_minor": 0
}
